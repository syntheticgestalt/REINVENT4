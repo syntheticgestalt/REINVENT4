{
 "cells": [
  {
   "cell_type": "code",
   "execution_count": 7,
   "metadata": {},
   "outputs": [],
   "source": [
    "import reinvent\n",
    "import sys\n",
    "from reinvent.runmodes.setup_sampler import setup_sampler\n",
    "from reinvent.chemistry import Conversions\n",
    "from reinvent.chemistry.library_design import BondMaker, AttachmentPoints\n",
    "from reinvent.runmodes.dtos import ChemistryHelpers\n"
   ]
  },
  {
   "cell_type": "code",
   "execution_count": null,
   "metadata": {},
   "outputs": [],
   "source": [
    "model_file = \"priors/linkinvent.prior\"\n",
    "device = torch.device(\"cpu\")"
   ]
  },
  {
   "cell_type": "code",
   "execution_count": 8,
   "metadata": {},
   "outputs": [
    {
     "ename": "TypeError",
     "evalue": "setup_sampler() missing 4 required positional arguments: 'model_type', 'config', 'agent', and 'chemistry'",
     "output_type": "error",
     "traceback": [
      "\u001b[0;31m---------------------------------------------------------------------------\u001b[0m",
      "\u001b[0;31mTypeError\u001b[0m                                 Traceback (most recent call last)",
      "Cell \u001b[0;32mIn[8], line 7\u001b[0m\n\u001b[1;32m      1\u001b[0m chemistry \u001b[38;5;241m=\u001b[39m ChemistryHelpers(\n\u001b[1;32m      2\u001b[0m         Conversions(),  \u001b[38;5;66;03m# Lib/LinkInvent, Mol2Mol\u001b[39;00m\n\u001b[1;32m      3\u001b[0m         BondMaker(),  \u001b[38;5;66;03m# LibInvent\u001b[39;00m\n\u001b[1;32m      4\u001b[0m         AttachmentPoints(),  \u001b[38;5;66;03m# Lib/LinkInvent\u001b[39;00m\n\u001b[1;32m      5\u001b[0m     )\n\u001b[0;32m----> 7\u001b[0m \u001b[43msetup_sampler\u001b[49m\u001b[43m(\u001b[49m\u001b[43m)\u001b[49m\n",
      "\u001b[0;31mTypeError\u001b[0m: setup_sampler() missing 4 required positional arguments: 'model_type', 'config', 'agent', and 'chemistry'"
     ]
    }
   ],
   "source": [
    "chemistry = ChemistryHelpers(\n",
    "        Conversions(),  # Lib/LinkInvent, Mol2Mol\n",
    "        BondMaker(),  # LibInvent\n",
    "        AttachmentPoints(),  # Lib/LinkInvent\n",
    "    )\n",
    "\n",
    "setup_sampler()"
   ]
  },
  {
   "cell_type": "code",
   "execution_count": null,
   "metadata": {},
   "outputs": [],
   "source": []
  }
 ],
 "metadata": {
  "kernelspec": {
   "display_name": ".venv",
   "language": "python",
   "name": "python3"
  },
  "language_info": {
   "codemirror_mode": {
    "name": "ipython",
    "version": 3
   },
   "file_extension": ".py",
   "mimetype": "text/x-python",
   "name": "python",
   "nbconvert_exporter": "python",
   "pygments_lexer": "ipython3",
   "version": "3.9.16"
  }
 },
 "nbformat": 4,
 "nbformat_minor": 2
}
